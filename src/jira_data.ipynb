{
 "cells": [
  {
   "cell_type": "code",
   "execution_count": null,
   "metadata": {},
   "outputs": [],
   "source": [
    "# Imports\n",
    "import requests\n",
    "from requests.auth import HTTPBasicAuth\n",
    "from dateutil.parser import parse as parse_date\n",
    "import pandas as pd\n",
    "from config import jira_pat as pat"
   ]
  },
  {
   "cell_type": "code",
   "execution_count": null,
   "metadata": {},
   "outputs": [],
   "source": [
    "# Set Up Code With Your Parameters\n",
    "\n",
    "# owner is used to construct the urls for the jira api to access issues\n",
    "owner_url = '<the jira instance url>'\n",
    "project = '<jira project name>'\n",
    "authorizer_email = \"<email associated with your PAT>\"\n",
    "\n",
    "# the date range you're interested in\n",
    "start_date = '2023-08-01'\n",
    "end_date = '2023-10-31'\n",
    "start_week = parse_date(start_date).isocalendar().week\n",
    "end_week = parse_date(end_date).isocalendar().week"
   ]
  },
  {
   "cell_type": "code",
   "execution_count": null,
   "metadata": {},
   "outputs": [],
   "source": [
    "# The api call setup\n",
    "\n",
    "url = f\"https://{owner_url}/rest/api/3/search\"\n",
    "jql = f\"project = \\\"{project}\\\" and status = Done AND resolved >= \\\"{start_date}\\\" and resolved <= \\\"{end_date}\\\"\"\n",
    "\n",
    "# This is how you add custom fields to your request. You'll have to change the NNNNN to the id in your project\n",
    "investment_type = 'customfield_NNNNN'\n",
    "story_points = 'customfield_NNNNN'\n",
    "\n",
    "fields = [\n",
    "  \"key\",\n",
    "  \"status\",\n",
    "  story_points,\n",
    "  investment_type,\n",
    "  \"issuetype\",\n",
    "  \"labels\"\n",
    "]\n",
    "\n",
    "print(jql)"
   ]
  },
  {
   "cell_type": "code",
   "execution_count": null,
   "metadata": {},
   "outputs": [],
   "source": [
    "# Make requests (this may take some time)\n",
    "\n",
    "params = {\n",
    "  'jql': jql,\n",
    "  'validateQuery': 'strict',\n",
    "  'fields': fields,\n",
    "  'maxResults': 50,\n",
    "}\n",
    "\n",
    "auth = HTTPBasicAuth(authorizer_email, pat)\n",
    "\n",
    "headers = {\n",
    "  \"Accept\": \"application/json\"\n",
    "}\n",
    "\n",
    "issues = []\n",
    "page = 0\n",
    "while(True):\n",
    "  print(f'fetching page {page}')\n",
    "  params[\"startAt\"] = params[\"maxResults\"]*page\n",
    "  r = requests.get(url, headers=headers, params=params, auth=auth)\n",
    "  issues.extend(r.json()[\"issues\"])\n",
    "  if len(issues) < r.json()[\"total\"]:\n",
    "    page += 1\n",
    "    continue\n",
    "  break\n",
    "\n",
    "print(f\"\\nTotal number of issues: {len(issues)}\")"
   ]
  },
  {
   "cell_type": "code",
   "execution_count": null,
   "metadata": {},
   "outputs": [],
   "source": [
    "def recursive_extract_nested_data(data_dict, complex_key):\n",
    "  keys = complex_key.rsplit('.')\n",
    "  if len(keys) == 1:\n",
    "    return data_dict[keys[0]]\n",
    "  return recursive_extract_nested_data(data_dict[keys[0]], '.'.join(keys[1:]))\n",
    "\n",
    "transformed_data = {}\n",
    "\n",
    "for issue in issues:\n",
    "  issue_data = {\n",
    "    \"issueType\": recursive_extract_nested_data(issue, 'fields.issuetype.name'),\n",
    "    \"status\": recursive_extract_nested_data(issue, 'fields.status.name'),\n",
    "    \"investmentType\": recursive_extract_nested_data(issue, f'fields.{investment_type}.value'),\n",
    "    \"storyPoints\": recursive_extract_nested_data(issue, f'fields.{story_points}'),\n",
    "    \"labels\": recursive_extract_nested_data(issue, f'fields.labels')\n",
    "  }\n",
    "  transformed_data[issue[\"key\"]] = issue_data\n",
    "\n",
    "print(transformed_data)"
   ]
  },
  {
   "cell_type": "code",
   "execution_count": null,
   "metadata": {},
   "outputs": [],
   "source": [
    "# Create dataframe\n",
    "\n",
    "df = pd.DataFrame(transformed_data).T\n",
    "df.head()"
   ]
  },
  {
   "cell_type": "code",
   "execution_count": null,
   "metadata": {},
   "outputs": [],
   "source": [
    "# Create dataframes for plots\n",
    "\n",
    "issues_by_investment_type_df = df.groupby(['investmentType'])['storyPoints'].sum()\n",
    "issues_by_investment_type_df.head()"
   ]
  },
  {
   "cell_type": "code",
   "execution_count": null,
   "metadata": {},
   "outputs": [],
   "source": [
    "# Plot investment type\n",
    "title = f\"Investment type breakdown between {start_date} and {end_date}\"\n",
    "\n",
    "issues_by_investment_type_df.plot.pie(title=title, ylabel='', autopct='%1.1f%%', shadow=True, startangle=0)"
   ]
  },
  {
   "cell_type": "code",
   "execution_count": null,
   "metadata": {},
   "outputs": [],
   "source": [
    "issues_by_issue_type_df = df.groupby(['issueType'])['storyPoints'].sum().drop('Epic')\n",
    "issues_by_issue_type_df.head()"
   ]
  },
  {
   "cell_type": "code",
   "execution_count": null,
   "metadata": {},
   "outputs": [],
   "source": [
    "# Plot issue type\n",
    "title = f\"Issue type breakdown between {start_date} and {end_date}\"\n",
    "\n",
    "issues_by_issue_type_df.plot.pie(title=title, ylabel='', autopct='%1.1f%%', shadow=True, startangle=0)"
   ]
  }
 ],
 "metadata": {
  "kernelspec": {
   "display_name": "Python 3",
   "language": "python",
   "name": "python3"
  },
  "language_info": {
   "codemirror_mode": {
    "name": "ipython",
    "version": 3
   },
   "file_extension": ".py",
   "mimetype": "text/x-python",
   "name": "python",
   "nbconvert_exporter": "python",
   "pygments_lexer": "ipython3",
   "version": "3.11.4"
  }
 },
 "nbformat": 4,
 "nbformat_minor": 2
}
